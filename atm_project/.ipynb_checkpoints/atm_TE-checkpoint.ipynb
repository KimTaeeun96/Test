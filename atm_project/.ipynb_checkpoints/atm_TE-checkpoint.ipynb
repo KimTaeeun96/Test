{
 "cells": [
  {
   "cell_type": "code",
   "execution_count": 2,
   "id": "bcc30318",
   "metadata": {},
   "outputs": [],
   "source": [
    "import random\n",
    "\n",
    "class action : \n",
    "    \n",
    "    def __init__(self):\n",
    "        self.fraud =[]\n",
    "        \n",
    "    def UserInput():\n",
    "        print(\"출금\")\n",
    "        print(\"=\"*30)\n",
    "        input(\"카드/통장 삽입\")\n",
    "    \n",
    "    def user_account(user):\n",
    "        print( user+ \"삽입. 사기거래 확인\")\n",
    "        for i in range(10):\n",
    "            self.fraud.append(random.randint(1000,9999))\n",
    "            \n",
    "        \n",
    "        \n",
    "    def input_password(user):\n",
    "        print(\"비밀번호를 입력하세요 : \")\n",
    "        \n",
    "        \n",
    "        while(True):\n",
    "            print(\"Select Menu\")\n",
    "            print(\"=\"*30)\n",
    "            print(\"1.전액현금\")\n",
    "            print(\"2.전액수표\")\n",
    "            print(\"3.현금+수표\")\n",
    "            print(\"4.취소\")\n",
    "            sel = input(\"==>\")\n",
    "\n",
    "            if sel ==\"1\":\n",
    "                print(\"전액현금\" +  +\"출금됩니다.\")\n",
    "                cash()\n",
    "            elif sel == \"2\":\n",
    "                print(\"전액수표\"+  + \"출금됩니다.\")\n",
    "                check()\n",
    "            elif sel == \"3\":\n",
    "                print(\"현금\"+ +\",\"+\"수표\"+ \" \" + \"출급됩니다.\")\n",
    "                money()\n",
    "            elif sel == \"4\":\n",
    "                break\n",
    "            else:\n",
    "                print(\"다시 선택해주십시오\")\n",
    "                print()\n"
   ]
  },
  {
   "cell_type": "code",
   "execution_count": null,
   "id": "eecaded6",
   "metadata": {},
   "outputs": [],
   "source": []
  }
 ],
 "metadata": {
  "kernelspec": {
   "display_name": "Python 3 (ipykernel)",
   "language": "python",
   "name": "python3"
  },
  "language_info": {
   "codemirror_mode": {
    "name": "ipython",
    "version": 3
   },
   "file_extension": ".py",
   "mimetype": "text/x-python",
   "name": "python",
   "nbconvert_exporter": "python",
   "pygments_lexer": "ipython3",
   "version": "3.8.13"
  }
 },
 "nbformat": 4,
 "nbformat_minor": 5
}
